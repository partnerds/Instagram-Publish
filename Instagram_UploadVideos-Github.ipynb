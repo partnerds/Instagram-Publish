{
 "cells": [
  {
   "cell_type": "code",
   "execution_count": null,
   "id": "b5421c3a-bb17-431b-9344-c5a6cefa7b9a",
   "metadata": {},
   "outputs": [],
   "source": [
    "#!pip install boto3"
   ]
  },
  {
   "cell_type": "code",
   "execution_count": null,
   "id": "7c1466b5-65f3-4f87-afb7-2e27caa03c7f",
   "metadata": {},
   "outputs": [],
   "source": [
    "import json\n",
    "import requests\n",
    "import time\n",
    "import boto3\n",
    "import os\n",
    "import shutil\n",
    "import telegram"
   ]
  },
  {
   "cell_type": "markdown",
   "id": "5c748533-f52d-44df-8557-03b5c1ed8155",
   "metadata": {},
   "source": [
    "### S3 amazon aws clients"
   ]
  },
  {
   "cell_type": "code",
   "execution_count": null,
   "id": "42588c5b-64bf-44d6-97bf-f43f003d1bd8",
   "metadata": {},
   "outputs": [],
   "source": [
    "s3 = boto3.resource(\n",
    "    service_name='s3',\n",
    "    region_name='us-east-2',\n",
    "    aws_access_key_id='your_acces_key_id',\n",
    "    aws_secret_access_key='your_secret_acces_key'\n",
    ")\n",
    "\n",
    "s3_client = boto3.client(service_name='s3',\n",
    "    region_name='us-east-2',\n",
    "    aws_access_key_id='your_acces_key_id',\n",
    "    aws_secret_access_key='your_secret_acces_key')"
   ]
  },
  {
   "cell_type": "markdown",
   "id": "1d7bd8a6-078d-4f3b-b31b-32c8096602ac",
   "metadata": {},
   "source": [
    "### Instagram Access Tokens"
   ]
  },
  {
   "cell_type": "code",
   "execution_count": null,
   "id": "14cff9c0-c366-4f0b-92b5-e2497ebc71db",
   "metadata": {},
   "outputs": [],
   "source": [
    "access_token = 'your_access_token'\n",
    "client_id = 'your_client_id'\n",
    "client_secret = 'your_client_secret'\n",
    "ig_user_id = 'ig_user_id'"
   ]
  },
  {
   "cell_type": "markdown",
   "id": "475b4396-6e8b-47a3-b199-4ca836f5ab5e",
   "metadata": {},
   "source": [
    "### List bucket in S3"
   ]
  },
  {
   "cell_type": "code",
   "execution_count": null,
   "id": "ad5ef8ef-17f5-4759-9520-cd5251ad2576",
   "metadata": {},
   "outputs": [],
   "source": [
    "#List buckets and get only \"videos-thisischileofc\"\n",
    "for bucket in s3.buckets.all():\n",
    "    if 'videos-thisischileofc' in bucket.name:\n",
    "        bucket_name = bucket.name\n",
    "        #print(bucket.name)"
   ]
  },
  {
   "cell_type": "markdown",
   "id": "e93a9676-0532-4fa8-abe6-0b9fe6e5a42f",
   "metadata": {},
   "source": [
    "### Upload process"
   ]
  },
  {
   "cell_type": "code",
   "execution_count": null,
   "id": "ba4e2e9b-a3c9-4d4c-9922-92e677996770",
   "metadata": {},
   "outputs": [],
   "source": [
    "class upload_videos:\n",
    "    \n",
    "    def __init__(self):\n",
    "        \n",
    "        #List mp4 videos on windows folder\n",
    "        \n",
    "        self.source_videos = 'your_videos_path'\n",
    "        #self.source_videos='.'\n",
    "        self.files = []\n",
    "        for file in os.listdir(self.source_videos):\n",
    "            if file.endswith('.mp4'):\n",
    "                self.files.append(file)\n",
    "        \n",
    "        self.files.sort()\n",
    "        self.name_media = self.files[0]\n",
    "        self.title = self.name_media[0:-4]\n",
    "        self.source_last_video = self.source_videos+'/{}'.format(self.name_media)\n",
    "        \n",
    "\n",
    "    def upload_instagram(self):\n",
    "\n",
    "        #Upload video to s3 bucket\n",
    "        s3.Bucket(bucket_name).upload_file(Filename=self.source_last_video, Key=self.name_media)\n",
    "\n",
    "        #Generate Public URL of the video \n",
    "        video_url = s3_client.generate_presigned_url('get_object',Params={'Bucket': bucket_name,'Key': self.name_media},ExpiresIn=600)\n",
    "        #video_url\n",
    "\n",
    "        #upload process video to instagram\n",
    "        post_url = 'https://graph.facebook.com/v15.0/{}/media'.format(ig_user_id)\n",
    "\n",
    "        payload={'media_type':'REELS', \n",
    "                 'video_url':video_url,\n",
    "                 'caption':self.title+' #thisischile #solopasaenchile #solochile #chile #chilegram #instachile #chilememes',\n",
    "                 'access_token' : access_token,\n",
    "                 'share_to_feed':'true'}\n",
    "\n",
    "        r1 = requests.post(post_url, data = payload)\n",
    "        #print(r.text)\n",
    "\n",
    "        results = json.loads(r1.text)\n",
    "        results\n",
    "\n",
    "        time.sleep(120)\n",
    "\n",
    "        creation_id = results['id']\n",
    "        second_url = 'https://graph.facebook.com/v15.0/{}/media_publish'.format(ig_user_id)\n",
    "        second_payload = {'creation_id':creation_id, 'access_token': access_token}\n",
    "\n",
    "        r2 = requests.post(second_url, data= second_payload)\n",
    "        print(r2.text)\n",
    "\n",
    "        return r2\n",
    "    \n",
    "    def delete_media(self):\n",
    "        \n",
    "        \n",
    "        #List objects in bucket for delete \n",
    "        for obj in s3.Bucket(bucket_name).objects.all():\n",
    "            obj = obj\n",
    "            #print(obj)\n",
    "            obj.delete()\n",
    "            \n",
    "        \n",
    "        #os.remove(self.name_media)\n",
    "        \n",
    "        #copy video to other folder and delete from root folder\n",
    "        source_media = self.source_videos+'/{}'.format(self.name_media)\n",
    "        destiny =self.source_videos+'/ya_public_insta/{}'.format(self.name_media)\n",
    "        shutil.copy(source_media, destiny)\n",
    "        os.system('wmic process where name=\"ffmpeg-win64-v4.2.2.exe\" delete')\n",
    "        time.sleep(120)\n",
    "        os.remove(source_media)"
   ]
  },
  {
   "cell_type": "markdown",
   "id": "7aff568c-3b24-47ed-a97f-6d4127c82ba1",
   "metadata": {},
   "source": [
    "### Run process until video is upload"
   ]
  },
  {
   "cell_type": "code",
   "execution_count": null,
   "id": "de4d1280-91fb-4732-99b7-7087565cbf84",
   "metadata": {},
   "outputs": [],
   "source": [
    "insta_status = 'No'"
   ]
  },
  {
   "cell_type": "code",
   "execution_count": null,
   "id": "1a74f2d2-90b4-4e5c-ae70-6efd426bc03d",
   "metadata": {},
   "outputs": [],
   "source": [
    "while insta_status == 'No':\n",
    "    upload = upload_videos()\n",
    "    upload_instagram = upload.upload_instagram()\n",
    "    upload1 = json.loads(upload_instagram.text)\n",
    "    try:\n",
    "        print(upload1['id'])\n",
    "        insta_status = 'Ok'\n",
    "        \n",
    "        #Delete object from amazon s3 and windows\n",
    "        upload.delete_media()\n",
    "    except:\n",
    "        print(upload1['error'])\n",
    "        insta_status = 'No'\n",
    "        #Delete object from amazon s3 and windows\n",
    "        upload.delete_media()"
   ]
  },
  {
   "cell_type": "code",
   "execution_count": null,
   "id": "6223391d-b859-4d62-852d-acd374641520",
   "metadata": {},
   "outputs": [],
   "source": []
  }
 ],
 "metadata": {
  "kernelspec": {
   "display_name": "Python 3 (ipykernel)",
   "language": "python",
   "name": "python3"
  },
  "language_info": {
   "codemirror_mode": {
    "name": "ipython",
    "version": 3
   },
   "file_extension": ".py",
   "mimetype": "text/x-python",
   "name": "python",
   "nbconvert_exporter": "python",
   "pygments_lexer": "ipython3",
   "version": "3.11.0"
  }
 },
 "nbformat": 4,
 "nbformat_minor": 5
}
